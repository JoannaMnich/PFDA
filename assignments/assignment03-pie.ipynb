{
 "cells": [
  {
   "cell_type": "markdown",
   "id": "b1b0289a",
   "metadata": {},
   "source": [
    "# The pie chart of peoples email domains in the csv file at the url"
   ]
  },
  {
   "cell_type": "markdown",
   "id": "7240a7de",
   "metadata": {
    "vscode": {
     "languageId": "plaintext"
    }
   },
   "source": [
    "# Author: Joanna Mnich"
   ]
  },
  {
   "cell_type": "code",
   "execution_count": null,
   "id": "914f6347",
   "metadata": {},
   "outputs": [],
   "source": [
    "import csv\n",
    "https://drive.google.com/uc?id=1AWPf-pJodJKeHsARQK_RHiNsE8fjPCVK&export=download"
   ]
  }
 ],
 "metadata": {
  "language_info": {
   "name": "python"
  }
 },
 "nbformat": 4,
 "nbformat_minor": 5
}
